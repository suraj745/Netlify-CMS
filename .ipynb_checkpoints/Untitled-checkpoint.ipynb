{
 "cells": [
  {
   "cell_type": "code",
   "execution_count": 1,
   "id": "d395bb72-601f-4c83-88b6-9720768792e2",
   "metadata": {},
   "outputs": [],
   "source": [
    "#function is nothing but a block of code"
   ]
  },
  {
   "cell_type": "code",
   "execution_count": 2,
   "id": "497a8f6c-4299-4d4b-83e5-154602df21fc",
   "metadata": {},
   "outputs": [],
   "source": [
    " # def is keyword to define the function\n",
    "# check_age is a function\n",
    "# () parameters"
   ]
  },
  {
   "cell_type": "code",
   "execution_count": 3,
   "id": "df0eb34a-45c5-41ae-a4a6-bc06d3c983c7",
   "metadata": {},
   "outputs": [],
   "source": [
    "def check_age(current_year,birth_year,name):\n",
    "    print(f\"{name} your age is {current_year - birth_year}\")"
   ]
  },
  {
   "cell_type": "code",
   "execution_count": 4,
   "id": "8b2d1d87-db86-432c-905b-73ca2ea4f347",
   "metadata": {},
   "outputs": [],
   "source": [
    "data = [\n",
    "    {\n",
    "        \"current_year\":2023,\n",
    "        \"birth_year\":2001,\n",
    "        \"name\":'suraj'\n",
    "    },\n",
    "     {\n",
    "        \"current_year\":2023,\n",
    "        \"birth_year\":1999,\n",
    "        \"name\":'mallika'\n",
    "    }\n",
    "    , {\n",
    "        \"current_year\":2023,\n",
    "        \"birth_year\":1928,\n",
    "        \"name\":'unknown'\n",
    "    }\n",
    "]"
   ]
  },
  {
   "cell_type": "code",
   "execution_count": 30,
   "id": "4e653735-154a-4209-81d3-77a08920bfe8",
   "metadata": {},
   "outputs": [
    {
     "data": {
      "text/plain": [
       "[{'current_year': 2023, 'birth_year': 1999, 'name': 'mallika'}]"
      ]
     },
     "execution_count": 30,
     "metadata": {},
     "output_type": "execute_result"
    }
   ],
   "source": [
    "# def filt(x):\n",
    "#     return x['name']=='suraj'\n",
    "\n",
    "list(filter(lambda x:x['name']=='mallika',data))"
   ]
  },
  {
   "cell_type": "code",
   "execution_count": 33,
   "id": "751a8ef3-118e-4a49-902c-3579f4cdfc26",
   "metadata": {},
   "outputs": [
    {
     "ename": "SyntaxError",
     "evalue": "invalid syntax (3895223155.py, line 2)",
     "output_type": "error",
     "traceback": [
      "\u001b[1;36m  Cell \u001b[1;32mIn[33], line 2\u001b[1;36m\u001b[0m\n\u001b[1;33m    a= check_age():\u001b[0m\n\u001b[1;37m                  ^\u001b[0m\n\u001b[1;31mSyntaxError\u001b[0m\u001b[1;31m:\u001b[0m invalid syntax\n"
     ]
    }
   ],
   "source": [
    "#normal function\n",
    "a= def check_age():\n",
    "    \n",
    "    "
   ]
  }
 ],
 "metadata": {
  "kernelspec": {
   "display_name": "Python 3 (ipykernel)",
   "language": "python",
   "name": "python3"
  },
  "language_info": {
   "codemirror_mode": {
    "name": "ipython",
    "version": 3
   },
   "file_extension": ".py",
   "mimetype": "text/x-python",
   "name": "python",
   "nbconvert_exporter": "python",
   "pygments_lexer": "ipython3",
   "version": "3.11.4"
  }
 },
 "nbformat": 4,
 "nbformat_minor": 5
}
